{
  "nbformat": 4,
  "nbformat_minor": 0,
  "metadata": {
    "colab": {
      "name": "Python_Function.ipynb",
      "provenance": [],
      "collapsed_sections": []
    },
    "kernelspec": {
      "name": "python3",
      "display_name": "Python 3"
    }
  },
  "cells": [
    {
      "cell_type": "code",
      "metadata": {
        "id": "SsyfBl-Mn4y0"
      },
      "source": [
        "array_of_dictionaries = [{\n",
        "    \"name\": \"Budi\",\n",
        "    \"age\": 10,\n",
        "    \"test_scores\": [100.0, 98.0, 89.0]\n",
        "},\n",
        "{\n",
        "    \"name\": \"Charlie\",\n",
        "    \"age\": 12,\n",
        "    \"test_scores\": [90.0, 100.0]\n",
        "}]"
      ],
      "execution_count": 1,
      "outputs": []
    },
    {
      "cell_type": "markdown",
      "metadata": {
        "id": "EMnD-gNkOxU7"
      },
      "source": [
        "1.Membuat function get_students_averages() untuk mendapatkan nilai rata-rata ujian\n",
        "untuk masing-masing student dari array array_of_dictionaries. Function menerima 1\n",
        "parameter:\n",
        "\n",
        "*   dictionary_list (array of dictionaries)\n",
        "\n",
        "Lalu, function akan menjalankan function print() yang menghasilkan output seperti\n",
        "berikut:\n",
        "\n",
        "Pelajar Budi dengan umur 10 mendapatkan nilai rata-rata 95.67 \n",
        "Pelajar Charlie dengan umur 12 mendapatkan nilai rata-rata 95.0"
      ]
    },
    {
      "cell_type": "code",
      "metadata": {
        "id": "eNQXrOYLoXGV",
        "outputId": "6e8465f6-770a-43b3-c557-a899ddaaa98b",
        "colab": {
          "base_uri": "https://localhost:8080/",
          "height": 54
        }
      },
      "source": [
        "def get_students_averages(dictionary_list):\n",
        "  for student in dictionary_list:\n",
        "    average = sum(student['test_scores']) / len(student['test_scores'])\n",
        "    \n",
        "    print(\"Pelajar \" + student['name'] + \" dengan umur \" + str(student['age']) + \" mendapatkan nilai rata-rata \" + str(round(average, 2)))\n",
        "\n",
        "get_students_averages(array_of_dictionaries)"
      ],
      "execution_count": 2,
      "outputs": [
        {
          "output_type": "stream",
          "text": [
            "Pelajar Budi dengan umur 10 mendapatkan nilai rata-rata 95.67\n",
            "Pelajar Charlie dengan umur 12 mendapatkan nilai rata-rata 95.0\n"
          ],
          "name": "stdout"
        }
      ]
    },
    {
      "cell_type": "markdown",
      "metadata": {
        "id": "nx233JUJPEtl"
      },
      "source": [
        "2.Membuat function get_students_min_score() untuk mendapatkan nilai ujian terkecil untuk masing-masing student dari array array_of_dictionaries. Function menerima 1\n",
        "parameter:\n",
        "\n",
        "*   dictionary_list (array of dictionaries)\n",
        "\n",
        "Lalu, function akan menjalankan function print() yang menghasilkan output seperti\n",
        "berikut:\n",
        "\n",
        "Pelajar Budi dengan umur 10 mendapatkan nilai terkecil 89.0\n",
        "Pelajar Charlie dengan umur 12 mendapatkan nilai terkecil 90.0\n"
      ]
    },
    {
      "cell_type": "code",
      "metadata": {
        "id": "ILH8ZuW0pHGm",
        "outputId": "a116f6db-791e-48eb-87a7-9dd6e4436d18",
        "colab": {
          "base_uri": "https://localhost:8080/",
          "height": 54
        }
      },
      "source": [
        "def get_students_min_score(dictionary_list):\n",
        "  for student in dictionary_list:\n",
        "    min = 100000000000\n",
        "\n",
        "    for score in student['test_scores']:\n",
        "      if score < min:\n",
        "        min = score\n",
        "    \n",
        "    print(\"Pelajar \" + student['name'] + \" dengan umur \" + str(student['age']) + \" mendapatkan nilai terkecil \" + str(round(min, 2)))\n",
        "\n",
        "get_students_min_score(array_of_dictionaries)"
      ],
      "execution_count": 3,
      "outputs": [
        {
          "output_type": "stream",
          "text": [
            "Pelajar Budi dengan umur 10 mendapatkan nilai terkecil 89.0\n",
            "Pelajar Charlie dengan umur 12 mendapatkan nilai terkecil 90.0\n"
          ],
          "name": "stdout"
        }
      ]
    },
    {
      "cell_type": "markdown",
      "metadata": {
        "id": "Tw1PcsvFQQaP"
      },
      "source": [
        "3.Membuat function get_students_max_score() untuk mendapatkan nilai ujian\n",
        "terbesar untuk masing-masing student dari array array_of_dictionaries. Function\n",
        "menerima 1 parameter:\n",
        "\n",
        "*   dictionary_list (array of dictionaries)\n",
        "\n",
        "Lalu, function akan menjalankan function print() yang menghasilkan output seperti\n",
        "berikut:\n",
        "\n",
        "Pelajar Budi dengan umur 10 mendapatkan nilai terbesar 100.0 \n",
        "Pelajar Charlie\n",
        "dengan umur 12 mendapatkan nilai terbesar 100.0"
      ]
    },
    {
      "cell_type": "code",
      "metadata": {
        "id": "oC5aa0gxpyto",
        "outputId": "c005061b-0284-4bb1-cab4-f53f97cbf5d9",
        "colab": {
          "base_uri": "https://localhost:8080/",
          "height": 54
        }
      },
      "source": [
        "def get_students_max_score(dictionary_list):\n",
        "  for student in dictionary_list:\n",
        "    max = 0\n",
        "\n",
        "    for score in student['test_scores']:\n",
        "      if score > max:\n",
        "        max = score\n",
        "    \n",
        "    print(\"Pelajar \" + student['name'] + \" dengan umur \" + str(student['age']) + \" mendapatkan nilai terbesar \" + str(round(max, 2)))\n",
        "\n",
        "get_students_max_score(array_of_dictionaries)"
      ],
      "execution_count": 4,
      "outputs": [
        {
          "output_type": "stream",
          "text": [
            "Pelajar Budi dengan umur 10 mendapatkan nilai terbesar 100.0\n",
            "Pelajar Charlie dengan umur 12 mendapatkan nilai terbesar 100.0\n"
          ],
          "name": "stdout"
        }
      ]
    },
    {
      "cell_type": "markdown",
      "metadata": {
        "id": "h-qvOzi0QwQ7"
      },
      "source": [
        "4.Membuat function get_max_score_by_student() untuk mendapatkan nilai ujian\n",
        "terbesar untuk suatu student dari array array_of_dictionaries. Function menerima 2\n",
        "parameter:\n",
        "\n",
        "*   dictionary_list (array of dictionaries)\n",
        "*   student_name (nama pelajar yang ingin dicari nilai terbesarnya)\n",
        "\n",
        "Lalu, function akan menjalankan function print() yang menghasilkan output seperti\n",
        "berikut ketika function get_max_score_by_student(dictionary_sample, \"Charlie\")\n",
        "dijalankan:\n",
        "\n",
        "Pelajar Charlie dengan umur 12 mendapatkan nilai terbesar 100.0"
      ]
    },
    {
      "cell_type": "code",
      "metadata": {
        "id": "ELiiZQvyqHFM",
        "outputId": "d9003c27-7340-4e67-cd97-bfebb6bb86f6",
        "colab": {
          "base_uri": "https://localhost:8080/",
          "height": 35
        }
      },
      "source": [
        "def get_max_score_by_student(dictionary_list, student_name):\n",
        "  for student in dictionary_list:\n",
        "    if student['name'] != student_name:\n",
        "      continue\n",
        "\n",
        "    max = 0\n",
        "\n",
        "    for score in student['test_scores']:\n",
        "      if score > max:\n",
        "        max = score\n",
        "    \n",
        "    print(\"Pelajar \" + student['name'] + \" dengan umur \" + str(student['age']) + \" mendapatkan nilai terbesar \" + str(round(max, 2)))\n",
        "\n",
        "get_max_score_by_student(array_of_dictionaries, \"Charlie\")"
      ],
      "execution_count": 5,
      "outputs": [
        {
          "output_type": "stream",
          "text": [
            "Pelajar Charlie dengan umur 12 mendapatkan nilai terbesar 100.0\n"
          ],
          "name": "stdout"
        }
      ]
    },
    {
      "cell_type": "markdown",
      "metadata": {
        "id": "ZFH9ggk7RUxp"
      },
      "source": [
        "5.Membuat function get_all_time_max_avg_score() untuk mendapatkan nilai rata-rata\n",
        "ujian terbesar dari semua pelajar. Function menerima 1 parameter:\n",
        "\n",
        "*   dictionary_list (array of dictionaries)\n",
        "\n",
        "Lalu, function akan menjalankan function print() yang menghasilkan output seperti\n",
        "berikut:\n",
        "\n",
        "Pelajar Budi dengan umur 10 mendapatkan nilai rata-rata terbesar, yaitu 95.67"
      ]
    },
    {
      "cell_type": "code",
      "metadata": {
        "id": "DjktfgBWqcu1",
        "outputId": "62175934-276a-4f81-a961-28bd427e50cd",
        "colab": {
          "base_uri": "https://localhost:8080/",
          "height": 35
        }
      },
      "source": [
        "def get_all_time_max_avg_score(dictionary_list):\n",
        "  max_student = None\n",
        "  max_average = 0\n",
        "\n",
        "  for student in dictionary_list:\n",
        "    average = sum(student['test_scores']) / len(student['test_scores'])\n",
        "\n",
        "    if average > max_average:\n",
        "      max_average = average\n",
        "      max_student = student\n",
        "    \n",
        "  print(\"Pelajar \" + max_student['name'] + \" dengan umur \" + str(max_student['age']) + \" mendapatkan nilai rata-rata terbesar \" + str(round(max_average, 2)))\n",
        "\n",
        "get_all_time_max_avg_score(array_of_dictionaries)"
      ],
      "execution_count": 6,
      "outputs": [
        {
          "output_type": "stream",
          "text": [
            "Pelajar Budi dengan umur 10 mendapatkan nilai rata-rata terbesar 95.67\n"
          ],
          "name": "stdout"
        }
      ]
    },
    {
      "cell_type": "markdown",
      "metadata": {
        "id": "1K_flkjnRtFC"
      },
      "source": [
        "6.Membuat function add_student() untuk menambahkan seorang pelajar ke array\n",
        "dictionary yang sudah ada. Function menerima 2 parameter:\n",
        "\n",
        "*   dictionary_list (array of dictionaries)\n",
        "*   student_dictionary (dictionary student yang akan dimasukan ke array)\n",
        "\n",
        "Lalu, function akan memberikan return value dictionary baru yang sudah\n",
        "ditambahkan dengan student_dictionary yang diberikan di parameter. \n",
        "Sehingga, ketika kode ini dijalankan:\n",
        "\n",
        "updated_dictionary = add_student(array_of_dictionaries, { \"name\": \"Doddy\", \"age\":\n",
        "13, \"test_scores\": [100.0, 100.0, 100.0] })\n",
        "\n",
        "print(updated_dictionary)\n",
        "\n",
        "\n",
        "Maka, sistem akan mengeluarkan isi list yang sudah ditambahkan dengan\n",
        "dictionary baru."
      ]
    },
    {
      "cell_type": "code",
      "metadata": {
        "id": "KLNgUBCKrsgv",
        "outputId": "dd22154f-d512-424e-9e4b-b94f8e4c21c0",
        "colab": {
          "base_uri": "https://localhost:8080/",
          "height": 55
        }
      },
      "source": [
        "def add_student(dictionary_list, student_dictionary):\n",
        "  dictionary_list.append(student_dictionary)\n",
        "\n",
        "  return dictionary_list\n",
        "\n",
        "updated_dictionary = add_student(array_of_dictionaries, { \"name\": \"Doddy\", \"age\": 13, \"test_scores\": [100.0, 100.0, 100.0] })\n",
        "\n",
        "print(updated_dictionary)"
      ],
      "execution_count": 7,
      "outputs": [
        {
          "output_type": "stream",
          "text": [
            "[{'name': 'Budi', 'age': 10, 'test_scores': [100.0, 98.0, 89.0]}, {'name': 'Charlie', 'age': 12, 'test_scores': [90.0, 100.0]}, {'name': 'Doddy', 'age': 13, 'test_scores': [100.0, 100.0, 100.0]}]\n"
          ],
          "name": "stdout"
        }
      ]
    }
  ]
}